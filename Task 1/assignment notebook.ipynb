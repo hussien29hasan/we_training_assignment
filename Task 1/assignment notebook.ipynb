{
 "cells": [
  {
   "cell_type": "markdown",
   "id": "a8f6c2a0",
   "metadata": {},
   "source": [
    "# define a matrix and a function that returns the inverse of this matrix    (3 * 3)"
   ]
  },
  {
   "cell_type": "code",
   "execution_count": 1,
   "id": "e1ac5d67",
   "metadata": {},
   "outputs": [],
   "source": [
    "import numpy as np"
   ]
  },
  {
   "cell_type": "code",
   "execution_count": 8,
   "id": "d06cbbe3",
   "metadata": {},
   "outputs": [
    {
     "name": "stdout",
     "output_type": "stream",
     "text": [
      "Dominant Eigenvalue: 11.45326194931462\n",
      "Inverse Matrix:\n",
      " [[ 1.66666667 -1.33333333 -0.33333333]\n",
      " [ 3.66666667 -4.33333333 -0.33333333]\n",
      " [-4.33333333  4.66666667  0.66666667]]\n",
      "Identity Matrix:\n",
      " [[1. 0. 0.]\n",
      " [0. 1. 0.]\n",
      " [0. 0. 1.]]\n"
     ]
    }
   ],
   "source": [
    "def dominant_value(matrix):\n",
    "    eigenvalues, _= np.linalg.eig(matrix)\n",
    "    dominant_eigenvalue = max(eigenvalues)\n",
    "    return dominant_eigenvalue\n",
    "\n",
    "def inverse_matrix(matrix):\n",
    "    if np.linalg.det(matrix) == 0:\n",
    "        raise ValueError(\"Matrix is singular and cannot be inverted.\")\n",
    "    else :\n",
    "        return np.linalg.inv(matrix)\n",
    "\n",
    "def identity_matrix(matrix):\n",
    "    dim = matrix.shape[0]\n",
    "    return np.identity(dim)\n",
    "\n",
    "matrix = np.array([[4, 2 , 3], [3, 1, 2] , [5 , 6 , 7]])\n",
    "\n",
    "dominant_eigenvalue = dominant_value(matrix)\n",
    "print(\"Dominant Eigenvalue:\", dominant_eigenvalue)\n",
    "\n",
    "try:\n",
    "    inverse = inverse_matrix(matrix)\n",
    "    print(\"Inverse Matrix:\\n\", inverse)\n",
    "except ValueError as e:\n",
    "    print(e)\n",
    "\n",
    "identity = identity_matrix(matrix)\n",
    "print(\"Identity Matrix:\\n\", identity)\n"
   ]
  },
  {
   "cell_type": "code",
   "execution_count": null,
   "id": "c3d80314",
   "metadata": {},
   "outputs": [],
   "source": []
  }
 ],
 "metadata": {
  "kernelspec": {
   "display_name": "Python 3 (ipykernel)",
   "language": "python",
   "name": "python3"
  },
  "language_info": {
   "codemirror_mode": {
    "name": "ipython",
    "version": 3
   },
   "file_extension": ".py",
   "mimetype": "text/x-python",
   "name": "python",
   "nbconvert_exporter": "python",
   "pygments_lexer": "ipython3",
   "version": "3.9.13"
  }
 },
 "nbformat": 4,
 "nbformat_minor": 5
}
