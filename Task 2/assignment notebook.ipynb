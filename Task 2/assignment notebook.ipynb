{
 "cells": [
  {
   "cell_type": "markdown",
   "id": "62dddc1f",
   "metadata": {},
   "source": [
    "# Task 1:"
   ]
  },
  {
   "cell_type": "markdown",
   "id": "a8f6c2a0",
   "metadata": {},
   "source": [
    "define a matrix and a function that returns the inverse of this matrix    (3 * 3)"
   ]
  },
  {
   "cell_type": "code",
   "execution_count": 1,
   "id": "e1ac5d67",
   "metadata": {},
   "outputs": [],
   "source": [
    "import numpy as np"
   ]
  },
  {
   "cell_type": "code",
   "execution_count": 8,
   "id": "d06cbbe3",
   "metadata": {},
   "outputs": [
    {
     "name": "stdout",
     "output_type": "stream",
     "text": [
      "Dominant Eigenvalue: 11.45326194931462\n",
      "Inverse Matrix:\n",
      " [[ 1.66666667 -1.33333333 -0.33333333]\n",
      " [ 3.66666667 -4.33333333 -0.33333333]\n",
      " [-4.33333333  4.66666667  0.66666667]]\n",
      "Identity Matrix:\n",
      " [[1. 0. 0.]\n",
      " [0. 1. 0.]\n",
      " [0. 0. 1.]]\n"
     ]
    }
   ],
   "source": [
    "def dominant_value(matrix):\n",
    "    eigenvalues, _= np.linalg.eig(matrix)\n",
    "    dominant_eigenvalue = max(eigenvalues)\n",
    "    return dominant_eigenvalue\n",
    "\n",
    "def inverse_matrix(matrix):\n",
    "    if np.linalg.det(matrix) == 0:\n",
    "        raise ValueError(\"Matrix is singular and cannot be inverted.\")\n",
    "    else :\n",
    "        return np.linalg.inv(matrix)\n",
    "\n",
    "def identity_matrix(matrix):\n",
    "    dim = matrix.shape[0]\n",
    "    return np.identity(dim)\n",
    "\n",
    "matrix = np.array([[4, 2 , 3], [3, 1, 2] , [5 , 6 , 7]])\n",
    "\n",
    "dominant_eigenvalue = dominant_value(matrix)\n",
    "print(\"Dominant Eigenvalue:\", dominant_eigenvalue)\n",
    "\n",
    "try:\n",
    "    inverse = inverse_matrix(matrix)\n",
    "    print(\"Inverse Matrix:\\n\", inverse)\n",
    "except ValueError as e:\n",
    "    print(e)\n",
    "\n",
    "identity = identity_matrix(matrix)\n",
    "print(\"Identity Matrix:\\n\", identity)"
   ]
  },
  {
   "cell_type": "markdown",
   "id": "40f38f7b",
   "metadata": {},
   "source": [
    "# Task 2:"
   ]
  },
  {
   "cell_type": "code",
   "execution_count": 1,
   "id": "add284e1",
   "metadata": {},
   "outputs": [],
   "source": [
    "import pandas as pd"
   ]
  },
  {
   "cell_type": "code",
   "execution_count": 2,
   "id": "c3d80314",
   "metadata": {},
   "outputs": [
    {
     "data": {
      "text/html": [
       "<div>\n",
       "<style scoped>\n",
       "    .dataframe tbody tr th:only-of-type {\n",
       "        vertical-align: middle;\n",
       "    }\n",
       "\n",
       "    .dataframe tbody tr th {\n",
       "        vertical-align: top;\n",
       "    }\n",
       "\n",
       "    .dataframe thead th {\n",
       "        text-align: right;\n",
       "    }\n",
       "</style>\n",
       "<table border=\"1\" class=\"dataframe\">\n",
       "  <thead>\n",
       "    <tr style=\"text-align: right;\">\n",
       "      <th></th>\n",
       "      <th>age</th>\n",
       "      <th>sex</th>\n",
       "      <th>bmi</th>\n",
       "      <th>children</th>\n",
       "      <th>smoker</th>\n",
       "      <th>region</th>\n",
       "      <th>charges</th>\n",
       "    </tr>\n",
       "  </thead>\n",
       "  <tbody>\n",
       "    <tr>\n",
       "      <th>0</th>\n",
       "      <td>19</td>\n",
       "      <td>female</td>\n",
       "      <td>27.900</td>\n",
       "      <td>0</td>\n",
       "      <td>yes</td>\n",
       "      <td>southwest</td>\n",
       "      <td>16884.92400</td>\n",
       "    </tr>\n",
       "    <tr>\n",
       "      <th>1</th>\n",
       "      <td>18</td>\n",
       "      <td>male</td>\n",
       "      <td>33.770</td>\n",
       "      <td>1</td>\n",
       "      <td>no</td>\n",
       "      <td>southeast</td>\n",
       "      <td>1725.55230</td>\n",
       "    </tr>\n",
       "    <tr>\n",
       "      <th>2</th>\n",
       "      <td>28</td>\n",
       "      <td>male</td>\n",
       "      <td>33.000</td>\n",
       "      <td>3</td>\n",
       "      <td>no</td>\n",
       "      <td>southeast</td>\n",
       "      <td>4449.46200</td>\n",
       "    </tr>\n",
       "    <tr>\n",
       "      <th>3</th>\n",
       "      <td>33</td>\n",
       "      <td>male</td>\n",
       "      <td>22.705</td>\n",
       "      <td>0</td>\n",
       "      <td>no</td>\n",
       "      <td>northwest</td>\n",
       "      <td>21984.47061</td>\n",
       "    </tr>\n",
       "    <tr>\n",
       "      <th>4</th>\n",
       "      <td>32</td>\n",
       "      <td>male</td>\n",
       "      <td>28.880</td>\n",
       "      <td>0</td>\n",
       "      <td>no</td>\n",
       "      <td>northwest</td>\n",
       "      <td>3866.85520</td>\n",
       "    </tr>\n",
       "  </tbody>\n",
       "</table>\n",
       "</div>"
      ],
      "text/plain": [
       "   age     sex     bmi  children smoker     region      charges\n",
       "0   19  female  27.900         0    yes  southwest  16884.92400\n",
       "1   18    male  33.770         1     no  southeast   1725.55230\n",
       "2   28    male  33.000         3     no  southeast   4449.46200\n",
       "3   33    male  22.705         0     no  northwest  21984.47061\n",
       "4   32    male  28.880         0     no  northwest   3866.85520"
      ]
     },
     "execution_count": 2,
     "metadata": {},
     "output_type": "execute_result"
    }
   ],
   "source": [
    "df = pd.read_csv('insurance-data.csv')\n",
    "df.head()"
   ]
  },
  {
   "cell_type": "markdown",
   "id": "e372442d",
   "metadata": {},
   "source": [
    "1.2. What is the percentage of female smokers?"
   ]
  },
  {
   "cell_type": "code",
   "execution_count": 3,
   "id": "0494c40a",
   "metadata": {},
   "outputs": [
    {
     "data": {
      "text/plain": [
       "17.371601208459214"
      ]
     },
     "execution_count": 3,
     "metadata": {},
     "output_type": "execute_result"
    }
   ],
   "source": [
    "total_females = df[df['sex'] == 'female'].shape[0]\n",
    "female_smokers = df[(df['sex'] == 'female') & (df['smoker'] == 'yes')].shape[0]\n",
    "percentage_female_smokers = (female_smokers / total_females) * 100\n",
    "percentage_female_smokers\n"
   ]
  },
  {
   "cell_type": "markdown",
   "id": "2b0b6744",
   "metadata": {},
   "source": [
    "1.3. Which city has the maximum insurance rate?"
   ]
  },
  {
   "cell_type": "code",
   "execution_count": 4,
   "id": "957a7a13",
   "metadata": {},
   "outputs": [
    {
     "data": {
      "text/plain": [
       "'southeast'"
      ]
     },
     "execution_count": 4,
     "metadata": {},
     "output_type": "execute_result"
    }
   ],
   "source": [
    "max_insurance_rate_city = df.groupby('region')['charges'].mean().idxmax()\n",
    "max_insurance_rate_city"
   ]
  },
  {
   "cell_type": "markdown",
   "id": "279c9700",
   "metadata": {},
   "source": [
    "1.4.Which gender has the maximum insurance rate?"
   ]
  },
  {
   "cell_type": "code",
   "execution_count": 5,
   "id": "2b2ce9ca",
   "metadata": {},
   "outputs": [
    {
     "data": {
      "text/plain": [
       "'male'"
      ]
     },
     "execution_count": 5,
     "metadata": {},
     "output_type": "execute_result"
    }
   ],
   "source": [
    "max_insurance_rate_gender = df.groupby('sex')['charges'].mean().idxmax()\n",
    "max_insurance_rate_gender"
   ]
  },
  {
   "cell_type": "markdown",
   "id": "0cde5dd4",
   "metadata": {},
   "source": [
    "1.5. what is the average percentage of female smoker age?"
   ]
  },
  {
   "cell_type": "code",
   "execution_count": 6,
   "id": "bc87494d",
   "metadata": {},
   "outputs": [
    {
     "data": {
      "text/plain": [
       "38.608695652173914"
      ]
     },
     "execution_count": 6,
     "metadata": {},
     "output_type": "execute_result"
    }
   ],
   "source": [
    "average_female_smoker_age = df[(df['sex'] == 'female') & (df['smoker'] == 'yes')]['age'].mean()\n",
    "average_female_smoker_age"
   ]
  },
  {
   "cell_type": "markdown",
   "id": "33383bb7",
   "metadata": {},
   "source": [
    "1.6. What is the percentage of males who hase children insurance?\n"
   ]
  },
  {
   "cell_type": "code",
   "execution_count": 7,
   "id": "5613b4aa",
   "metadata": {},
   "outputs": [
    {
     "data": {
      "text/plain": [
       "57.84023668639053"
      ]
     },
     "execution_count": 7,
     "metadata": {},
     "output_type": "execute_result"
    }
   ],
   "source": [
    "total_males = df[df['sex'] == 'male'].shape[0]\n",
    "males_with_children = df[(df['sex'] == 'male') & (df['children'] > 0)].shape[0]\n",
    "percentage_males_with_children_insurance = (males_with_children / total_males) * 100\n",
    "percentage_males_with_children_insurance"
   ]
  },
  {
   "cell_type": "markdown",
   "id": "89f1102e",
   "metadata": {},
   "source": [
    "1.7. What are the percentage of the females who hase children insurance?"
   ]
  },
  {
   "cell_type": "code",
   "execution_count": 8,
   "id": "3b55e23f",
   "metadata": {},
   "outputs": [
    {
     "data": {
      "text/plain": [
       "56.34441087613293"
      ]
     },
     "execution_count": 8,
     "metadata": {},
     "output_type": "execute_result"
    }
   ],
   "source": [
    "total_females = df[df['sex'] == 'female'].shape[0]\n",
    "females_with_children = df[(df['sex'] == 'female') & (df['children'] > 0)].shape[0]\n",
    "percentage_females_with_children_insurance = (females_with_children / total_females) * 100\n",
    "percentage_females_with_children_insurance"
   ]
  },
  {
   "cell_type": "markdown",
   "id": "599c9d80",
   "metadata": {},
   "source": [
    "1.8. what are the maximum number of children associated with male parent assurance?\n"
   ]
  },
  {
   "cell_type": "code",
   "execution_count": 9,
   "id": "310ffd3f",
   "metadata": {},
   "outputs": [
    {
     "data": {
      "text/plain": [
       "5"
      ]
     },
     "execution_count": 9,
     "metadata": {},
     "output_type": "execute_result"
    }
   ],
   "source": [
    "max_children_male = df[df['sex'] == 'male']['children'].max()\n",
    "max_children_male"
   ]
  },
  {
   "cell_type": "markdown",
   "id": "aa82858a",
   "metadata": {},
   "source": [
    "1.9. What are the maximum number of children associated with female parent assurance?"
   ]
  },
  {
   "cell_type": "code",
   "execution_count": 11,
   "id": "a40c1c6b",
   "metadata": {},
   "outputs": [
    {
     "data": {
      "text/plain": [
       "5"
      ]
     },
     "execution_count": 11,
     "metadata": {},
     "output_type": "execute_result"
    }
   ],
   "source": [
    "max_children_female = df[df['sex'] == 'female']['children'].max()\n",
    "max_children_female"
   ]
  },
  {
   "cell_type": "markdown",
   "id": "80ca487d",
   "metadata": {},
   "source": [
    "1.10. Which city has the maximum female insurance total charge?"
   ]
  },
  {
   "cell_type": "code",
   "execution_count": 10,
   "id": "428736d8",
   "metadata": {},
   "outputs": [
    {
     "data": {
      "text/plain": [
       "'southeast'"
      ]
     },
     "execution_count": 10,
     "metadata": {},
     "output_type": "execute_result"
    }
   ],
   "source": [
    "max_female_insurance_city = df[df['sex'] == 'female'].groupby('region')['charges'].sum().idxmax()\n",
    "max_female_insurance_city"
   ]
  }
 ],
 "metadata": {
  "kernelspec": {
   "display_name": "Python 3 (ipykernel)",
   "language": "python",
   "name": "python3"
  },
  "language_info": {
   "codemirror_mode": {
    "name": "ipython",
    "version": 3
   },
   "file_extension": ".py",
   "mimetype": "text/x-python",
   "name": "python",
   "nbconvert_exporter": "python",
   "pygments_lexer": "ipython3",
   "version": "3.9.13"
  }
 },
 "nbformat": 4,
 "nbformat_minor": 5
}
